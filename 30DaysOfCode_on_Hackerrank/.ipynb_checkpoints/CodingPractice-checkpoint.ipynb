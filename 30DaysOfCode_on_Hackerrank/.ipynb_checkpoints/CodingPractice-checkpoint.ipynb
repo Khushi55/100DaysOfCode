{
 "cells": [
  {
   "cell_type": "markdown",
   "metadata": {},
   "source": [
    "# Day1"
   ]
  },
  {
   "cell_type": "markdown",
   "metadata": {},
   "source": [
    "### Hello World!"
   ]
  },
  {
   "cell_type": "code",
   "execution_count": 5,
   "metadata": {},
   "outputs": [
    {
     "name": "stdout",
     "output_type": "stream",
     "text": [
      "Hello World!\n",
      "Hello World!\n"
     ]
    }
   ],
   "source": [
    "input_string = input()\n",
    "print(input_string)"
   ]
  },
  {
   "cell_type": "markdown",
   "metadata": {},
   "source": [
    "# Day2"
   ]
  },
  {
   "cell_type": "markdown",
   "metadata": {},
   "source": [
    "### Data Type"
   ]
  },
  {
   "cell_type": "code",
   "execution_count": 15,
   "metadata": {},
   "outputs": [
    {
     "name": "stdout",
     "output_type": "stream",
     "text": [
      "4\n",
      "4\n",
      "is the best place to learn and practice coding!\n",
      "8\n",
      "8.0\n",
      "HackerRank is the best place to learn and practice coding!\n"
     ]
    }
   ],
   "source": [
    "i=4\n",
    "d=4.0\n",
    "s=\"HackerRank\"\n",
    "# Declare second integer, double, and String variables.\n",
    "i1=input()\n",
    "d1=input()\n",
    "s1=input()\n",
    "i1=int(i1)\n",
    "d1=float(d1)\n",
    "print(i+i1)\n",
    "print(d+d1)\n",
    "print(s+' '+s1)"
   ]
  },
  {
   "cell_type": "code",
   "execution_count": null,
   "metadata": {},
   "outputs": [],
   "source": []
  }
 ],
 "metadata": {
  "kernelspec": {
   "display_name": "Python 3",
   "language": "python",
   "name": "python3"
  },
  "language_info": {
   "codemirror_mode": {
    "name": "ipython",
    "version": 3
   },
   "file_extension": ".py",
   "mimetype": "text/x-python",
   "name": "python",
   "nbconvert_exporter": "python",
   "pygments_lexer": "ipython3",
   "version": "3.7.0"
  }
 },
 "nbformat": 4,
 "nbformat_minor": 2
}
